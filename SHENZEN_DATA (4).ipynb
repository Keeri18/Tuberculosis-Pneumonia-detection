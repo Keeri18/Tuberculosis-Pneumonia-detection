{
  "nbformat": 4,
  "nbformat_minor": 0,
  "metadata": {
    "colab": {
      "provenance": []
    },
    "kernelspec": {
      "name": "python3",
      "display_name": "Python 3"
    },
    "language_info": {
      "name": "python"
    }
  },
  "cells": [
    {
      "cell_type": "code",
      "execution_count": null,
      "metadata": {
        "id": "Br1LwMqiGmq-"
      },
      "outputs": [],
      "source": [
        "import numpy as np\n",
        "import pandas as pd\n",
        "import matplotlib.pyplot as plt\n",
        "import seaborn as sns\n",
        "from sklearn.model_selection import train_test_split\n",
        "from keras.models import Sequential\n",
        "from keras.layers import Activation, Dense, Dropout\n",
        "from keras import optimizers\n",
        "from sklearn.metrics import confusion_matrix,accuracy_score, roc_curve, auc\n",
        "%matplotlib inline\n",
        "sns.set_style(\"whitegrid\")"
      ]
    },
    {
      "cell_type": "code",
      "source": [
        "from google.colab import drive\n",
        "drive.mount('/content/gdrive')"
      ],
      "metadata": {
        "colab": {
          "base_uri": "https://localhost:8080/"
        },
        "id": "ZX1e6DAcGu_G",
        "outputId": "c102b6ca-6f68-43bd-c0b7-9ada464aff10"
      },
      "execution_count": null,
      "outputs": [
        {
          "output_type": "stream",
          "name": "stdout",
          "text": [
            "Mounted at /content/gdrive\n"
          ]
        }
      ]
    },
    {
      "cell_type": "code",
      "source": [
        "!unzip '/content/mc+shenzhen.zip'"
      ],
      "metadata": {
        "colab": {
          "base_uri": "https://localhost:8080/"
        },
        "id": "v_RUicdjGvCe",
        "outputId": "09cefcb6-9bad-40e6-f840-ec0aa1646bf2"
      },
      "execution_count": null,
      "outputs": [
        {
          "output_type": "stream",
          "name": "stdout",
          "text": [
            "Archive:  /content/mc+shenzhen.zip\n",
            "   creating: mc+shenzhen/train/\n",
            "  inflating: mc+shenzhen/train/CHNCXR_0004_0.png  \n",
            "  inflating: mc+shenzhen/train/CHNCXR_0010_0.png  \n",
            "  inflating: mc+shenzhen/train/CHNCXR_0011_0.png  \n",
            "  inflating: mc+shenzhen/train/CHNCXR_0019_0.png  \n",
            "  inflating: mc+shenzhen/train/CHNCXR_0020_0.png  \n",
            "  inflating: mc+shenzhen/train/CHNCXR_0025_0.png  \n",
            "  inflating: mc+shenzhen/train/CHNCXR_0026_0.png  \n",
            "  inflating: mc+shenzhen/train/CHNCXR_0033_0.png  \n",
            "  inflating: mc+shenzhen/train/CHNCXR_0034_0.png  \n",
            "  inflating: mc+shenzhen/train/CHNCXR_0038_0.png  \n",
            "  inflating: mc+shenzhen/train/CHNCXR_0041_0.png  \n",
            "  inflating: mc+shenzhen/train/CHNCXR_0043_0.png  \n",
            "  inflating: mc+shenzhen/train/CHNCXR_0052_0.png  \n",
            "  inflating: mc+shenzhen/train/CHNCXR_0053_0.png  \n",
            "  inflating: mc+shenzhen/train/CHNCXR_0055_0.png  \n",
            "  inflating: mc+shenzhen/train/CHNCXR_0057_0.png  \n",
            "  inflating: mc+shenzhen/train/CHNCXR_0059_0.png  \n",
            "  inflating: mc+shenzhen/train/CHNCXR_0060_0.png  \n",
            "  inflating: mc+shenzhen/train/CHNCXR_0062_0.png  \n",
            "  inflating: mc+shenzhen/train/CHNCXR_0064_0.png  \n",
            "  inflating: mc+shenzhen/train/CHNCXR_0068_0.png  \n",
            "  inflating: mc+shenzhen/train/CHNCXR_0075_0.png  \n",
            "  inflating: mc+shenzhen/train/CHNCXR_0085_0.png  \n",
            "  inflating: mc+shenzhen/train/CHNCXR_0089_0.png  \n",
            "  inflating: mc+shenzhen/train/CHNCXR_0095_0.png  \n",
            "  inflating: mc+shenzhen/train/CHNCXR_0099_0.png  \n",
            "  inflating: mc+shenzhen/train/CHNCXR_0110_0.png  \n",
            "  inflating: mc+shenzhen/train/CHNCXR_0113_0.png  \n",
            "  inflating: mc+shenzhen/train/CHNCXR_0127_0.png  \n",
            "  inflating: mc+shenzhen/train/CHNCXR_0128_0.png  \n",
            "  inflating: mc+shenzhen/train/CHNCXR_0132_0.png  \n",
            "  inflating: mc+shenzhen/train/CHNCXR_0135_0.png  \n",
            "  inflating: mc+shenzhen/train/CHNCXR_0137_0.png  \n",
            "  inflating: mc+shenzhen/train/CHNCXR_0138_0.png  \n",
            "  inflating: mc+shenzhen/train/CHNCXR_0144_0.png  \n",
            "  inflating: mc+shenzhen/train/CHNCXR_0150_0.png  \n",
            "  inflating: mc+shenzhen/train/CHNCXR_0158_0.png  \n",
            "  inflating: mc+shenzhen/train/CHNCXR_0159_0.png  \n",
            "  inflating: mc+shenzhen/train/CHNCXR_0166_0.png  \n",
            "  inflating: mc+shenzhen/train/CHNCXR_0173_0.png  \n",
            "  inflating: mc+shenzhen/train/CHNCXR_0182_0.png  \n",
            "  inflating: mc+shenzhen/train/CHNCXR_0183_0.png  \n",
            "  inflating: mc+shenzhen/train/CHNCXR_0184_0.png  \n",
            "  inflating: mc+shenzhen/train/CHNCXR_0191_0.png  \n",
            "  inflating: mc+shenzhen/train/CHNCXR_0197_0.png  \n",
            "  inflating: mc+shenzhen/train/CHNCXR_0206_0.png  \n",
            "  inflating: mc+shenzhen/train/CHNCXR_0207_0.png  \n",
            "  inflating: mc+shenzhen/train/CHNCXR_0209_0.png  \n",
            "  inflating: mc+shenzhen/train/CHNCXR_0217_0.png  \n",
            "  inflating: mc+shenzhen/train/CHNCXR_0221_0.png  \n",
            "  inflating: mc+shenzhen/train/CHNCXR_0224_0.png  \n",
            "  inflating: mc+shenzhen/train/CHNCXR_0225_0.png  \n",
            "  inflating: mc+shenzhen/train/CHNCXR_0226_0.png  \n",
            "  inflating: mc+shenzhen/train/CHNCXR_0229_0.png  \n",
            "  inflating: mc+shenzhen/train/CHNCXR_0230_0.png  \n",
            "  inflating: mc+shenzhen/train/CHNCXR_0233_0.png  \n",
            "  inflating: mc+shenzhen/train/CHNCXR_0238_0.png  \n",
            "  inflating: mc+shenzhen/train/CHNCXR_0246_0.png  \n",
            "  inflating: mc+shenzhen/train/CHNCXR_0252_0.png  \n",
            "  inflating: mc+shenzhen/train/CHNCXR_0254_0.png  \n",
            "  inflating: mc+shenzhen/train/CHNCXR_0256_0.png  \n",
            "  inflating: mc+shenzhen/train/CHNCXR_0257_0.png  \n",
            "  inflating: mc+shenzhen/train/CHNCXR_0258_0.png  \n",
            "  inflating: mc+shenzhen/train/CHNCXR_0267_0.png  \n",
            "  inflating: mc+shenzhen/train/CHNCXR_0268_0.png  \n",
            "  inflating: mc+shenzhen/train/CHNCXR_0274_0.png  \n",
            "  inflating: mc+shenzhen/train/CHNCXR_0275_0.png  \n",
            "  inflating: mc+shenzhen/train/CHNCXR_0291_0.png  \n",
            "  inflating: mc+shenzhen/train/CHNCXR_0308_0.png  \n",
            "  inflating: mc+shenzhen/train/CHNCXR_0313_0.png  \n",
            "  inflating: mc+shenzhen/train/CHNCXR_0315_0.png  \n",
            "  inflating: mc+shenzhen/train/CHNCXR_0321_0.png  \n",
            "  inflating: mc+shenzhen/train/CHNCXR_0323_0.png  \n",
            "  inflating: mc+shenzhen/train/CHNCXR_0324_0.png  \n",
            "  inflating: mc+shenzhen/train/CHNCXR_0326_0.png  \n",
            "  inflating: mc+shenzhen/train/CHNCXR_0331_1.png  \n",
            "  inflating: mc+shenzhen/train/CHNCXR_0332_1.png  \n",
            "  inflating: mc+shenzhen/train/CHNCXR_0333_1.png  \n",
            "  inflating: mc+shenzhen/train/CHNCXR_0336_1.png  \n",
            "  inflating: mc+shenzhen/train/CHNCXR_0339_1.png  \n",
            "  inflating: mc+shenzhen/train/CHNCXR_0343_1.png  \n",
            "  inflating: mc+shenzhen/train/CHNCXR_0346_1.png  \n",
            "  inflating: mc+shenzhen/train/CHNCXR_0349_1.png  \n",
            "  inflating: mc+shenzhen/train/CHNCXR_0357_1.png  \n",
            "  inflating: mc+shenzhen/train/CHNCXR_0358_1.png  \n",
            "  inflating: mc+shenzhen/train/CHNCXR_0359_1.png  \n",
            "  inflating: mc+shenzhen/train/CHNCXR_0361_1.png  \n",
            "  inflating: mc+shenzhen/train/CHNCXR_0371_1.png  \n",
            "  inflating: mc+shenzhen/train/CHNCXR_0372_1.png  \n",
            "  inflating: mc+shenzhen/train/CHNCXR_0374_1.png  \n",
            "  inflating: mc+shenzhen/train/CHNCXR_0375_1.png  \n",
            "  inflating: mc+shenzhen/train/CHNCXR_0378_1.png  \n",
            "  inflating: mc+shenzhen/train/CHNCXR_0388_1.png  \n",
            "  inflating: mc+shenzhen/train/CHNCXR_0397_1.png  \n",
            "  inflating: mc+shenzhen/train/CHNCXR_0399_1.png  \n",
            "  inflating: mc+shenzhen/train/CHNCXR_0403_1.png  \n",
            "  inflating: mc+shenzhen/train/CHNCXR_0409_1.png  \n",
            "  inflating: mc+shenzhen/train/CHNCXR_0419_1.png  \n",
            "  inflating: mc+shenzhen/train/CHNCXR_0423_1.png  \n",
            "  inflating: mc+shenzhen/train/CHNCXR_0426_1.png  \n",
            "  inflating: mc+shenzhen/train/CHNCXR_0428_1.png  \n",
            "  inflating: mc+shenzhen/train/CHNCXR_0430_1.png  \n",
            "  inflating: mc+shenzhen/train/CHNCXR_0431_1.png  \n",
            "  inflating: mc+shenzhen/train/CHNCXR_0432_1.png  \n",
            "  inflating: mc+shenzhen/train/CHNCXR_0437_1.png  \n",
            "  inflating: mc+shenzhen/train/CHNCXR_0438_1.png  \n",
            "  inflating: mc+shenzhen/train/CHNCXR_0442_1.png  \n",
            "  inflating: mc+shenzhen/train/CHNCXR_0443_1.png  \n",
            "  inflating: mc+shenzhen/train/CHNCXR_0444_1.png  \n",
            "  inflating: mc+shenzhen/train/CHNCXR_0445_1.png  \n",
            "  inflating: mc+shenzhen/train/CHNCXR_0450_1.png  \n",
            "  inflating: mc+shenzhen/train/CHNCXR_0454_1.png  \n",
            "  inflating: mc+shenzhen/train/CHNCXR_0456_1.png  \n",
            "  inflating: mc+shenzhen/train/CHNCXR_0463_1.png  \n",
            "  inflating: mc+shenzhen/train/CHNCXR_0464_1.png  \n",
            "  inflating: mc+shenzhen/train/CHNCXR_0469_1.png  \n",
            "  inflating: mc+shenzhen/train/CHNCXR_0471_1.png  \n",
            "  inflating: mc+shenzhen/train/CHNCXR_0473_1.png  \n",
            "  inflating: mc+shenzhen/train/CHNCXR_0474_1.png  \n",
            "  inflating: mc+shenzhen/train/CHNCXR_0475_1.png  \n",
            "  inflating: mc+shenzhen/train/CHNCXR_0479_1.png  \n",
            "  inflating: mc+shenzhen/train/CHNCXR_0481_1.png  \n",
            "  inflating: mc+shenzhen/train/CHNCXR_0485_1.png  \n",
            "  inflating: mc+shenzhen/train/CHNCXR_0488_1.png  \n",
            "  inflating: mc+shenzhen/train/CHNCXR_0500_1.png  \n",
            "  inflating: mc+shenzhen/train/CHNCXR_0510_1.png  \n",
            "  inflating: mc+shenzhen/train/CHNCXR_0515_1.png  \n",
            "  inflating: mc+shenzhen/train/CHNCXR_0516_1.png  \n",
            "  inflating: mc+shenzhen/train/CHNCXR_0518_1.png  \n",
            "  inflating: mc+shenzhen/train/CHNCXR_0523_1.png  \n",
            "  inflating: mc+shenzhen/train/CHNCXR_0532_1.png  \n",
            "  inflating: mc+shenzhen/train/CHNCXR_0536_1.png  \n",
            "  inflating: mc+shenzhen/train/CHNCXR_0545_1.png  \n",
            "  inflating: mc+shenzhen/train/CHNCXR_0546_1.png  \n",
            "  inflating: mc+shenzhen/train/CHNCXR_0547_1.png  \n",
            "  inflating: mc+shenzhen/train/CHNCXR_0552_1.png  \n",
            "  inflating: mc+shenzhen/train/CHNCXR_0555_1.png  \n",
            "  inflating: mc+shenzhen/train/CHNCXR_0562_1.png  \n",
            "  inflating: mc+shenzhen/train/CHNCXR_0564_1.png  \n",
            "  inflating: mc+shenzhen/train/CHNCXR_0575_1.png  \n",
            "  inflating: mc+shenzhen/train/CHNCXR_0579_1.png  \n",
            "  inflating: mc+shenzhen/train/CHNCXR_0580_1.png  \n",
            "  inflating: mc+shenzhen/train/CHNCXR_0589_1.png  \n",
            "  inflating: mc+shenzhen/train/CHNCXR_0593_1.png  \n",
            "  inflating: mc+shenzhen/train/CHNCXR_0597_1.png  \n",
            "  inflating: mc+shenzhen/train/CHNCXR_0598_1.png  \n",
            "  inflating: mc+shenzhen/train/CHNCXR_0604_1.png  \n",
            "  inflating: mc+shenzhen/train/CHNCXR_0605_1.png  \n",
            "  inflating: mc+shenzhen/train/CHNCXR_0606_1.png  \n",
            "  inflating: mc+shenzhen/train/CHNCXR_0607_1.png  \n",
            "  inflating: mc+shenzhen/train/CHNCXR_0614_1.png  \n",
            "  inflating: mc+shenzhen/train/CHNCXR_0615_1.png  \n",
            "  inflating: mc+shenzhen/train/CHNCXR_0618_1.png  \n",
            "  inflating: mc+shenzhen/train/CHNCXR_0619_1.png  \n",
            "  inflating: mc+shenzhen/train/CHNCXR_0626_1.png  \n",
            "  inflating: mc+shenzhen/train/CHNCXR_0632_1.png  \n",
            "  inflating: mc+shenzhen/train/CHNCXR_0635_1.png  \n",
            "  inflating: mc+shenzhen/train/CHNCXR_0636_1.png  \n",
            "  inflating: mc+shenzhen/train/CHNCXR_0637_1.png  \n",
            "  inflating: mc+shenzhen/train/CHNCXR_0638_1.png  \n",
            "  inflating: mc+shenzhen/train/CHNCXR_0642_1.png  \n",
            "  inflating: mc+shenzhen/train/CHNCXR_0645_1.png  \n",
            "  inflating: mc+shenzhen/train/CHNCXR_0646_1.png  \n",
            "  inflating: mc+shenzhen/train/CHNCXR_0654_1.png  \n",
            "  inflating: mc+shenzhen/train/MCUCXR_0004_0.png  \n",
            "  inflating: mc+shenzhen/train/MCUCXR_0023_0.png  \n",
            "  inflating: mc+shenzhen/train/MCUCXR_0027_0.png  \n",
            "  inflating: mc+shenzhen/train/MCUCXR_0028_0.png  \n",
            "  inflating: mc+shenzhen/train/MCUCXR_0029_0.png  \n",
            "  inflating: mc+shenzhen/train/MCUCXR_0038_0.png  \n",
            "  inflating: mc+shenzhen/train/MCUCXR_0041_0.png  \n",
            "  inflating: mc+shenzhen/train/MCUCXR_0042_0.png  \n",
            "  inflating: mc+shenzhen/train/MCUCXR_0043_0.png  \n",
            "  inflating: mc+shenzhen/train/MCUCXR_0044_0.png  \n",
            "  inflating: mc+shenzhen/train/MCUCXR_0048_0.png  \n",
            "  inflating: mc+shenzhen/train/MCUCXR_0051_0.png  \n",
            "  inflating: mc+shenzhen/train/MCUCXR_0055_0.png  \n",
            "  inflating: mc+shenzhen/train/MCUCXR_0056_0.png  \n",
            "  inflating: mc+shenzhen/train/MCUCXR_0061_0.png  \n",
            "  inflating: mc+shenzhen/train/MCUCXR_0063_0.png  \n",
            "  inflating: mc+shenzhen/train/MCUCXR_0069_0.png  \n",
            "  inflating: mc+shenzhen/train/MCUCXR_0071_0.png  \n",
            "  inflating: mc+shenzhen/train/MCUCXR_0074_0.png  \n",
            "  inflating: mc+shenzhen/train/MCUCXR_0081_0.png  \n",
            "  inflating: mc+shenzhen/train/MCUCXR_0097_0.png  \n",
            "  inflating: mc+shenzhen/train/MCUCXR_0099_0.png  \n",
            "  inflating: mc+shenzhen/train/MCUCXR_0104_1.png  \n",
            "  inflating: mc+shenzhen/train/MCUCXR_0162_1.png  \n",
            "  inflating: mc+shenzhen/train/MCUCXR_0173_1.png  \n",
            "  inflating: mc+shenzhen/train/MCUCXR_0196_1.png  \n",
            "  inflating: mc+shenzhen/train/MCUCXR_0243_1.png  \n",
            "  inflating: mc+shenzhen/train/MCUCXR_0275_1.png  \n",
            "  inflating: mc+shenzhen/train/MCUCXR_0294_1.png  \n",
            "  inflating: mc+shenzhen/train/MCUCXR_0311_1.png  \n",
            "  inflating: mc+shenzhen/train/MCUCXR_0338_1.png  \n",
            "  inflating: mc+shenzhen/train/MCUCXR_0350_1.png  \n",
            "  inflating: mc+shenzhen/train/MCUCXR_0352_1.png  \n",
            "  inflating: mc+shenzhen/train/MCUCXR_0369_1.png  \n",
            "  inflating: mc+shenzhen/train/MCUCXR_0375_1.png  \n",
            "  inflating: mc+shenzhen/train/MCUCXR_0399_1.png  \n",
            "   creating: mc+shenzhen/val/\n",
            "  inflating: mc+shenzhen/val/CHNCXR_0002_0.png  \n",
            "  inflating: mc+shenzhen/val/CHNCXR_0007_0.png  \n",
            "  inflating: mc+shenzhen/val/CHNCXR_0009_0.png  \n",
            "  inflating: mc+shenzhen/val/CHNCXR_0013_0.png  \n",
            "  inflating: mc+shenzhen/val/CHNCXR_0016_0.png  \n",
            "  inflating: mc+shenzhen/val/CHNCXR_0018_0.png  \n",
            "  inflating: mc+shenzhen/val/CHNCXR_0023_0.png  \n",
            "  inflating: mc+shenzhen/val/CHNCXR_0024_0.png  \n",
            "  inflating: mc+shenzhen/val/CHNCXR_0027_0.png  \n",
            "  inflating: mc+shenzhen/val/CHNCXR_0031_0.png  \n",
            "  inflating: mc+shenzhen/val/CHNCXR_0032_0.png  \n",
            "  inflating: mc+shenzhen/val/CHNCXR_0035_0.png  \n",
            "  inflating: mc+shenzhen/val/CHNCXR_0036_0.png  \n",
            "  inflating: mc+shenzhen/val/CHNCXR_0040_0.png  \n",
            "  inflating: mc+shenzhen/val/CHNCXR_0045_0.png  \n",
            "  inflating: mc+shenzhen/val/CHNCXR_0046_0.png  \n",
            "  inflating: mc+shenzhen/val/CHNCXR_0051_0.png  \n",
            "  inflating: mc+shenzhen/val/CHNCXR_0061_0.png  \n",
            "  inflating: mc+shenzhen/val/CHNCXR_0065_0.png  \n",
            "  inflating: mc+shenzhen/val/CHNCXR_0071_0.png  \n",
            "  inflating: mc+shenzhen/val/CHNCXR_0073_0.png  \n",
            "  inflating: mc+shenzhen/val/CHNCXR_0074_0.png  \n",
            "  inflating: mc+shenzhen/val/CHNCXR_0078_0.png  \n",
            "  inflating: mc+shenzhen/val/CHNCXR_0080_0.png  \n",
            "  inflating: mc+shenzhen/val/CHNCXR_0081_0.png  \n",
            "  inflating: mc+shenzhen/val/CHNCXR_0083_0.png  \n",
            "  inflating: mc+shenzhen/val/CHNCXR_0084_0.png  \n",
            "  inflating: mc+shenzhen/val/CHNCXR_0087_0.png  \n",
            "  inflating: mc+shenzhen/val/CHNCXR_0093_0.png  \n",
            "  inflating: mc+shenzhen/val/CHNCXR_0096_0.png  \n",
            "  inflating: mc+shenzhen/val/CHNCXR_0097_0.png  \n",
            "  inflating: mc+shenzhen/val/CHNCXR_0101_0.png  \n",
            "  inflating: mc+shenzhen/val/CHNCXR_0106_0.png  \n",
            "  inflating: mc+shenzhen/val/CHNCXR_0107_0.png  \n",
            "  inflating: mc+shenzhen/val/CHNCXR_0108_0.png  \n",
            "  inflating: mc+shenzhen/val/CHNCXR_0109_0.png  \n",
            "  inflating: mc+shenzhen/val/CHNCXR_0117_0.png  \n",
            "  inflating: mc+shenzhen/val/CHNCXR_0118_0.png  \n",
            "  inflating: mc+shenzhen/val/CHNCXR_0119_0.png  \n",
            "  inflating: mc+shenzhen/val/CHNCXR_0121_0.png  \n",
            "  inflating: mc+shenzhen/val/CHNCXR_0125_0.png  \n",
            "  inflating: mc+shenzhen/val/CHNCXR_0126_0.png  \n",
            "  inflating: mc+shenzhen/val/CHNCXR_0139_0.png  \n",
            "  inflating: mc+shenzhen/val/CHNCXR_0142_0.png  \n",
            "  inflating: mc+shenzhen/val/CHNCXR_0143_0.png  \n",
            "  inflating: mc+shenzhen/val/CHNCXR_0162_0.png  \n",
            "  inflating: mc+shenzhen/val/CHNCXR_0164_0.png  \n",
            "  inflating: mc+shenzhen/val/CHNCXR_0175_0.png  \n",
            "  inflating: mc+shenzhen/val/CHNCXR_0177_0.png  \n",
            "  inflating: mc+shenzhen/val/CHNCXR_0179_0.png  \n",
            "  inflating: mc+shenzhen/val/CHNCXR_0181_0.png  \n",
            "  inflating: mc+shenzhen/val/CHNCXR_0188_0.png  \n",
            "  inflating: mc+shenzhen/val/CHNCXR_0193_0.png  \n",
            "  inflating: mc+shenzhen/val/CHNCXR_0199_0.png  \n",
            "  inflating: mc+shenzhen/val/CHNCXR_0200_0.png  \n",
            "  inflating: mc+shenzhen/val/CHNCXR_0205_0.png  \n",
            "  inflating: mc+shenzhen/val/CHNCXR_0211_0.png  \n",
            "  inflating: mc+shenzhen/val/CHNCXR_0213_0.png  \n",
            "  inflating: mc+shenzhen/val/CHNCXR_0219_0.png  \n",
            "  inflating: mc+shenzhen/val/CHNCXR_0237_0.png  \n",
            "  inflating: mc+shenzhen/val/CHNCXR_0243_0.png  \n",
            "  inflating: mc+shenzhen/val/CHNCXR_0244_0.png  \n",
            "  inflating: mc+shenzhen/val/CHNCXR_0249_0.png  \n",
            "  inflating: mc+shenzhen/val/CHNCXR_0250_0.png  \n",
            "  inflating: mc+shenzhen/val/CHNCXR_0261_0.png  \n",
            "  inflating: mc+shenzhen/val/CHNCXR_0262_0.png  \n",
            "  inflating: mc+shenzhen/val/CHNCXR_0263_0.png  \n",
            "  inflating: mc+shenzhen/val/CHNCXR_0265_0.png  \n",
            "  inflating: mc+shenzhen/val/CHNCXR_0269_0.png  \n",
            "  inflating: mc+shenzhen/val/CHNCXR_0270_0.png  \n",
            "  inflating: mc+shenzhen/val/CHNCXR_0271_0.png  \n",
            "  inflating: mc+shenzhen/val/CHNCXR_0272_0.png  \n",
            "  inflating: mc+shenzhen/val/CHNCXR_0276_0.png  \n",
            "  inflating: mc+shenzhen/val/CHNCXR_0280_0.png  \n",
            "  inflating: mc+shenzhen/val/CHNCXR_0281_0.png  \n",
            "  inflating: mc+shenzhen/val/CHNCXR_0288_0.png  \n",
            "  inflating: mc+shenzhen/val/CHNCXR_0289_0.png  \n",
            "  inflating: mc+shenzhen/val/CHNCXR_0293_0.png  \n",
            "  inflating: mc+shenzhen/val/CHNCXR_0294_0.png  \n",
            "  inflating: mc+shenzhen/val/CHNCXR_0301_0.png  \n",
            "  inflating: mc+shenzhen/val/CHNCXR_0303_0.png  \n",
            "  inflating: mc+shenzhen/val/CHNCXR_0305_0.png  \n",
            "  inflating: mc+shenzhen/val/CHNCXR_0314_0.png  \n",
            "  inflating: mc+shenzhen/val/CHNCXR_0316_0.png  \n",
            "  inflating: mc+shenzhen/val/CHNCXR_0319_0.png  \n",
            "  inflating: mc+shenzhen/val/CHNCXR_0327_1.png  \n",
            "  inflating: mc+shenzhen/val/CHNCXR_0329_1.png  \n",
            "  inflating: mc+shenzhen/val/CHNCXR_0341_1.png  \n",
            "  inflating: mc+shenzhen/val/CHNCXR_0342_1.png  \n",
            "  inflating: mc+shenzhen/val/CHNCXR_0347_1.png  \n",
            "  inflating: mc+shenzhen/val/CHNCXR_0351_1.png  \n",
            "  inflating: mc+shenzhen/val/CHNCXR_0352_1.png  \n",
            "  inflating: mc+shenzhen/val/CHNCXR_0355_1.png  \n",
            "  inflating: mc+shenzhen/val/CHNCXR_0356_1.png  \n",
            "  inflating: mc+shenzhen/val/CHNCXR_0363_1.png  \n",
            "  inflating: mc+shenzhen/val/CHNCXR_0367_1.png  \n",
            "  inflating: mc+shenzhen/val/CHNCXR_0370_1.png  \n",
            "  inflating: mc+shenzhen/val/CHNCXR_0376_1.png  \n",
            "  inflating: mc+shenzhen/val/CHNCXR_0380_1.png  \n",
            "  inflating: mc+shenzhen/val/CHNCXR_0381_1.png  \n",
            "  inflating: mc+shenzhen/val/CHNCXR_0383_1.png  \n",
            "  inflating: mc+shenzhen/val/CHNCXR_0385_1.png  \n",
            "  inflating: mc+shenzhen/val/CHNCXR_0390_1.png  \n",
            "  inflating: mc+shenzhen/val/CHNCXR_0391_1.png  \n",
            "  inflating: mc+shenzhen/val/CHNCXR_0392_1.png  \n",
            "  inflating: mc+shenzhen/val/CHNCXR_0396_1.png  \n",
            "  inflating: mc+shenzhen/val/CHNCXR_0404_1.png  \n",
            "  inflating: mc+shenzhen/val/CHNCXR_0406_1.png  \n",
            "  inflating: mc+shenzhen/val/CHNCXR_0407_1.png  \n",
            "  inflating: mc+shenzhen/val/CHNCXR_0411_1.png  \n",
            "  inflating: mc+shenzhen/val/CHNCXR_0412_1.png  \n",
            "  inflating: mc+shenzhen/val/CHNCXR_0414_1.png  \n",
            "  inflating: mc+shenzhen/val/CHNCXR_0421_1.png  \n",
            "  inflating: mc+shenzhen/val/CHNCXR_0422_1.png  \n",
            "  inflating: mc+shenzhen/val/CHNCXR_0425_1.png  \n",
            "  inflating: mc+shenzhen/val/CHNCXR_0433_1.png  \n",
            "  inflating: mc+shenzhen/val/CHNCXR_0441_1.png  \n",
            "  inflating: mc+shenzhen/val/CHNCXR_0449_1.png  \n",
            "  inflating: mc+shenzhen/val/CHNCXR_0461_1.png  \n",
            "  inflating: mc+shenzhen/val/CHNCXR_0466_1.png  \n",
            "  inflating: mc+shenzhen/val/CHNCXR_0467_1.png  \n",
            "  inflating: mc+shenzhen/val/CHNCXR_0470_1.png  \n",
            "  inflating: mc+shenzhen/val/CHNCXR_0476_1.png  \n",
            "  inflating: mc+shenzhen/val/CHNCXR_0482_1.png  \n",
            "  inflating: mc+shenzhen/val/CHNCXR_0492_1.png  \n",
            "  inflating: mc+shenzhen/val/CHNCXR_0495_1.png  \n",
            "  inflating: mc+shenzhen/val/CHNCXR_0504_1.png  \n",
            "  inflating: mc+shenzhen/val/CHNCXR_0506_1.png  \n",
            "  inflating: mc+shenzhen/val/CHNCXR_0508_1.png  \n",
            "  inflating: mc+shenzhen/val/CHNCXR_0513_1.png  \n",
            "  inflating: mc+shenzhen/val/CHNCXR_0514_1.png  \n",
            "  inflating: mc+shenzhen/val/CHNCXR_0517_1.png  \n",
            "  inflating: mc+shenzhen/val/CHNCXR_0519_1.png  \n",
            "  inflating: mc+shenzhen/val/CHNCXR_0520_1.png  \n",
            "  inflating: mc+shenzhen/val/CHNCXR_0527_1.png  \n",
            "  inflating: mc+shenzhen/val/CHNCXR_0529_1.png  \n",
            "  inflating: mc+shenzhen/val/CHNCXR_0535_1.png  \n",
            "  inflating: mc+shenzhen/val/CHNCXR_0538_1.png  \n",
            "  inflating: mc+shenzhen/val/CHNCXR_0541_1.png  \n",
            "  inflating: mc+shenzhen/val/CHNCXR_0543_1.png  \n",
            "  inflating: mc+shenzhen/val/CHNCXR_0551_1.png  \n",
            "  inflating: mc+shenzhen/val/CHNCXR_0558_1.png  \n",
            "  inflating: mc+shenzhen/val/CHNCXR_0560_1.png  \n",
            "  inflating: mc+shenzhen/val/CHNCXR_0566_1.png  \n",
            "  inflating: mc+shenzhen/val/CHNCXR_0567_1.png  \n",
            "  inflating: mc+shenzhen/val/CHNCXR_0571_1.png  \n",
            "  inflating: mc+shenzhen/val/CHNCXR_0583_1.png  \n",
            "  inflating: mc+shenzhen/val/CHNCXR_0590_1.png  \n",
            "  inflating: mc+shenzhen/val/CHNCXR_0591_1.png  \n",
            "  inflating: mc+shenzhen/val/CHNCXR_0592_1.png  \n",
            "  inflating: mc+shenzhen/val/CHNCXR_0613_1.png  \n",
            "  inflating: mc+shenzhen/val/CHNCXR_0616_1.png  \n",
            "  inflating: mc+shenzhen/val/CHNCXR_0617_1.png  \n",
            "  inflating: mc+shenzhen/val/CHNCXR_0620_1.png  \n",
            "  inflating: mc+shenzhen/val/CHNCXR_0621_1.png  \n",
            "  inflating: mc+shenzhen/val/CHNCXR_0628_1.png  \n",
            "  inflating: mc+shenzhen/val/CHNCXR_0641_1.png  \n",
            "  inflating: mc+shenzhen/val/CHNCXR_0643_1.png  \n",
            "  inflating: mc+shenzhen/val/CHNCXR_0644_1.png  \n",
            "  inflating: mc+shenzhen/val/CHNCXR_0647_1.png  \n",
            "  inflating: mc+shenzhen/val/CHNCXR_0655_1.png  \n",
            "  inflating: mc+shenzhen/val/CHNCXR_0658_1.png  \n",
            "  inflating: mc+shenzhen/val/CHNCXR_0659_1.png  \n",
            "  inflating: mc+shenzhen/val/MCUCXR_0006_0.png  \n",
            "  inflating: mc+shenzhen/val/MCUCXR_0011_0.png  \n",
            "  inflating: mc+shenzhen/val/MCUCXR_0016_0.png  \n",
            "  inflating: mc+shenzhen/val/MCUCXR_0019_0.png  \n",
            "  inflating: mc+shenzhen/val/MCUCXR_0020_0.png  \n",
            "  inflating: mc+shenzhen/val/MCUCXR_0021_0.png  \n",
            "  inflating: mc+shenzhen/val/MCUCXR_0022_0.png  \n",
            "  inflating: mc+shenzhen/val/MCUCXR_0026_0.png  \n",
            "  inflating: mc+shenzhen/val/MCUCXR_0030_0.png  \n",
            "  inflating: mc+shenzhen/val/MCUCXR_0035_0.png  \n",
            "  inflating: mc+shenzhen/val/MCUCXR_0040_0.png  \n",
            "  inflating: mc+shenzhen/val/MCUCXR_0047_0.png  \n",
            "  inflating: mc+shenzhen/val/MCUCXR_0053_0.png  \n",
            "  inflating: mc+shenzhen/val/MCUCXR_0059_0.png  \n",
            "  inflating: mc+shenzhen/val/MCUCXR_0080_0.png  \n",
            "  inflating: mc+shenzhen/val/MCUCXR_0083_0.png  \n",
            "  inflating: mc+shenzhen/val/MCUCXR_0084_0.png  \n",
            "  inflating: mc+shenzhen/val/MCUCXR_0086_0.png  \n",
            "  inflating: mc+shenzhen/val/MCUCXR_0101_0.png  \n",
            "  inflating: mc+shenzhen/val/MCUCXR_0102_0.png  \n",
            "  inflating: mc+shenzhen/val/MCUCXR_0117_1.png  \n",
            "  inflating: mc+shenzhen/val/MCUCXR_0141_1.png  \n",
            "  inflating: mc+shenzhen/val/MCUCXR_0166_1.png  \n",
            "  inflating: mc+shenzhen/val/MCUCXR_0188_1.png  \n",
            "  inflating: mc+shenzhen/val/MCUCXR_0194_1.png  \n",
            "  inflating: mc+shenzhen/val/MCUCXR_0213_1.png  \n",
            "  inflating: mc+shenzhen/val/MCUCXR_0253_1.png  \n",
            "  inflating: mc+shenzhen/val/MCUCXR_0254_1.png  \n",
            "  inflating: mc+shenzhen/val/MCUCXR_0255_1.png  \n",
            "  inflating: mc+shenzhen/val/MCUCXR_0258_1.png  \n",
            "  inflating: mc+shenzhen/val/MCUCXR_0282_1.png  \n",
            "  inflating: mc+shenzhen/val/MCUCXR_0316_1.png  \n",
            "  inflating: mc+shenzhen/val/MCUCXR_0331_1.png  \n",
            "  inflating: mc+shenzhen/val/MCUCXR_0354_1.png  \n",
            "  inflating: mc+shenzhen/val/MCUCXR_0362_1.png  \n",
            "  inflating: mc+shenzhen/val/MCUCXR_0367_1.png  \n",
            "  inflating: mc+shenzhen/val/MCUCXR_0390_1.png  \n"
          ]
        }
      ]
    },
    {
      "cell_type": "code",
      "source": [
        "!mv  mc+shenzhen train"
      ],
      "metadata": {
        "id": "AeT8m31JGvFm"
      },
      "execution_count": null,
      "outputs": []
    },
    {
      "cell_type": "code",
      "source": [
        "from glob import glob\n",
        "ntb = glob('train/train/*_0.png')\n",
        "tb = glob('train/val/*_1.png')"
      ],
      "metadata": {
        "id": "gJ35ZpnfGvIu"
      },
      "execution_count": null,
      "outputs": []
    },
    {
      "cell_type": "code",
      "source": [
        "!mkdir train_main\n",
        "!mkdir train_main/ntb"
      ],
      "metadata": {
        "id": "9HaL7_u6GvLo"
      },
      "execution_count": null,
      "outputs": []
    },
    {
      "cell_type": "code",
      "source": [
        "files = ' '.join(ntb)"
      ],
      "metadata": {
        "id": "aM_Ln7nRGvOl"
      },
      "execution_count": null,
      "outputs": []
    },
    {
      "cell_type": "code",
      "source": [
        "files"
      ],
      "metadata": {
        "colab": {
          "base_uri": "https://localhost:8080/",
          "height": 191
        },
        "id": "9rTEM6zTJzEV",
        "outputId": "ef8a09d8-b4db-4bf3-c6e7-0a35d6598ef6"
      },
      "execution_count": null,
      "outputs": [
        {
          "output_type": "execute_result",
          "data": {
            "text/plain": [
              "'train/train/CHNCXR_0159_0.png train/train/CHNCXR_0224_0.png train/train/CHNCXR_0256_0.png train/train/CHNCXR_0059_0.png train/train/MCUCXR_0097_0.png train/train/CHNCXR_0110_0.png train/train/CHNCXR_0233_0.png train/train/MCUCXR_0042_0.png train/train/CHNCXR_0137_0.png train/train/MCUCXR_0055_0.png train/train/CHNCXR_0217_0.png train/train/CHNCXR_0043_0.png train/train/CHNCXR_0025_0.png train/train/CHNCXR_0274_0.png train/train/CHNCXR_0144_0.png train/train/CHNCXR_0197_0.png train/train/CHNCXR_0085_0.png train/train/CHNCXR_0089_0.png train/train/CHNCXR_0004_0.png train/train/CHNCXR_0113_0.png train/train/MCUCXR_0081_0.png train/train/CHNCXR_0062_0.png train/train/CHNCXR_0313_0.png train/train/MCUCXR_0038_0.png train/train/CHNCXR_0150_0.png train/train/CHNCXR_0053_0.png train/train/CHNCXR_0075_0.png train/train/MCUCXR_0061_0.png train/train/CHNCXR_0291_0.png train/train/CHNCXR_0229_0.png train/train/CHNCXR_0055_0.png train/train/CHNCXR_0254_0.png train/train/MCUCXR_0044_0.png train/train/CHNCXR_0184_0.png train/train/CHNCXR_0257_0.png train/train/CHNCXR_0138_0.png train/train/CHNCXR_0068_0.png train/train/MCUCXR_0028_0.png train/train/MCUCXR_0004_0.png train/train/CHNCXR_0252_0.png train/train/MCUCXR_0063_0.png train/train/CHNCXR_0321_0.png train/train/MCUCXR_0027_0.png train/train/CHNCXR_0038_0.png train/train/CHNCXR_0308_0.png train/train/CHNCXR_0132_0.png train/train/CHNCXR_0019_0.png train/train/CHNCXR_0052_0.png train/train/CHNCXR_0064_0.png train/train/CHNCXR_0183_0.png train/train/CHNCXR_0033_0.png train/train/CHNCXR_0095_0.png train/train/CHNCXR_0041_0.png train/train/CHNCXR_0158_0.png train/train/CHNCXR_0060_0.png train/train/MCUCXR_0071_0.png train/train/CHNCXR_0127_0.png train/train/CHNCXR_0246_0.png train/train/CHNCXR_0128_0.png train/train/CHNCXR_0267_0.png train/train/CHNCXR_0275_0.png train/train/CHNCXR_0258_0.png train/train/CHNCXR_0226_0.png train/train/CHNCXR_0135_0.png train/train/CHNCXR_0238_0.png train/train/CHNCXR_0034_0.png train/train/MCUCXR_0051_0.png train/train/MCUCXR_0043_0.png train/train/MCUCXR_0029_0.png train/train/CHNCXR_0326_0.png train/train/CHNCXR_0026_0.png train/train/CHNCXR_0225_0.png train/train/MCUCXR_0069_0.png train/train/CHNCXR_0209_0.png train/train/CHNCXR_0268_0.png train/train/CHNCXR_0173_0.png train/train/CHNCXR_0191_0.png train/train/CHNCXR_0166_0.png train/train/CHNCXR_0207_0.png train/train/CHNCXR_0315_0.png train/train/CHNCXR_0324_0.png train/train/CHNCXR_0230_0.png train/train/MCUCXR_0048_0.png train/train/MCUCXR_0023_0.png train/train/MCUCXR_0099_0.png train/train/CHNCXR_0057_0.png train/train/CHNCXR_0221_0.png train/train/CHNCXR_0011_0.png train/train/MCUCXR_0056_0.png train/train/CHNCXR_0099_0.png train/train/CHNCXR_0010_0.png train/train/MCUCXR_0074_0.png train/train/CHNCXR_0323_0.png train/train/CHNCXR_0020_0.png train/train/CHNCXR_0182_0.png train/train/CHNCXR_0206_0.png train/train/MCUCXR_0041_0.png'"
            ],
            "application/vnd.google.colaboratory.intrinsic+json": {
              "type": "string"
            }
          },
          "metadata": {},
          "execution_count": 9
        }
      ]
    },
    {
      "cell_type": "code",
      "source": [
        "!mv -t train_main/ntb $files"
      ],
      "metadata": {
        "id": "hYZ6xbNQGvRI"
      },
      "execution_count": null,
      "outputs": []
    },
    {
      "cell_type": "code",
      "source": [
        "!mkdir train_main/tb\n"
      ],
      "metadata": {
        "id": "-qOJ8vFdGvTa"
      },
      "execution_count": null,
      "outputs": []
    },
    {
      "cell_type": "code",
      "source": [
        "files = ' '.join(tb)\n"
      ],
      "metadata": {
        "id": "8yxvwBuCGvWG"
      },
      "execution_count": null,
      "outputs": []
    },
    {
      "cell_type": "code",
      "source": [
        "files"
      ],
      "metadata": {
        "colab": {
          "base_uri": "https://localhost:8080/",
          "height": 191
        },
        "id": "3lFzx9diL1Gh",
        "outputId": "16f473e4-a093-4bc1-aad7-1edaa4284e07"
      },
      "execution_count": null,
      "outputs": [
        {
          "output_type": "execute_result",
          "data": {
            "text/plain": [
              "'train/val/CHNCXR_0376_1.png train/val/CHNCXR_0591_1.png train/val/CHNCXR_0404_1.png train/val/CHNCXR_0620_1.png train/val/MCUCXR_0166_1.png train/val/CHNCXR_0492_1.png train/val/CHNCXR_0659_1.png train/val/CHNCXR_0414_1.png train/val/CHNCXR_0327_1.png train/val/CHNCXR_0482_1.png train/val/CHNCXR_0514_1.png train/val/CHNCXR_0341_1.png train/val/MCUCXR_0255_1.png train/val/CHNCXR_0406_1.png train/val/CHNCXR_0643_1.png train/val/MCUCXR_0141_1.png train/val/MCUCXR_0390_1.png train/val/CHNCXR_0644_1.png train/val/MCUCXR_0258_1.png train/val/CHNCXR_0504_1.png train/val/CHNCXR_0461_1.png train/val/MCUCXR_0367_1.png train/val/CHNCXR_0538_1.png train/val/CHNCXR_0519_1.png train/val/MCUCXR_0213_1.png train/val/CHNCXR_0641_1.png train/val/MCUCXR_0117_1.png train/val/CHNCXR_0551_1.png train/val/MCUCXR_0253_1.png train/val/CHNCXR_0613_1.png train/val/CHNCXR_0370_1.png train/val/CHNCXR_0529_1.png train/val/CHNCXR_0566_1.png train/val/CHNCXR_0508_1.png train/val/CHNCXR_0390_1.png train/val/CHNCXR_0495_1.png train/val/CHNCXR_0329_1.png train/val/MCUCXR_0194_1.png train/val/CHNCXR_0425_1.png train/val/CHNCXR_0391_1.png train/val/CHNCXR_0385_1.png train/val/CHNCXR_0433_1.png train/val/CHNCXR_0352_1.png train/val/CHNCXR_0347_1.png train/val/CHNCXR_0558_1.png train/val/CHNCXR_0367_1.png train/val/CHNCXR_0342_1.png train/val/CHNCXR_0449_1.png train/val/CHNCXR_0380_1.png train/val/CHNCXR_0355_1.png train/val/CHNCXR_0411_1.png train/val/CHNCXR_0571_1.png train/val/CHNCXR_0617_1.png train/val/MCUCXR_0188_1.png train/val/CHNCXR_0592_1.png train/val/CHNCXR_0407_1.png train/val/CHNCXR_0655_1.png train/val/CHNCXR_0590_1.png train/val/CHNCXR_0466_1.png train/val/CHNCXR_0647_1.png train/val/CHNCXR_0628_1.png train/val/CHNCXR_0392_1.png train/val/CHNCXR_0535_1.png train/val/CHNCXR_0476_1.png train/val/MCUCXR_0282_1.png train/val/CHNCXR_0517_1.png train/val/CHNCXR_0412_1.png train/val/CHNCXR_0506_1.png train/val/CHNCXR_0422_1.png train/val/CHNCXR_0520_1.png train/val/CHNCXR_0467_1.png train/val/MCUCXR_0362_1.png train/val/MCUCXR_0316_1.png train/val/CHNCXR_0567_1.png train/val/CHNCXR_0396_1.png train/val/CHNCXR_0560_1.png train/val/CHNCXR_0363_1.png train/val/CHNCXR_0351_1.png train/val/CHNCXR_0621_1.png train/val/CHNCXR_0421_1.png train/val/CHNCXR_0658_1.png train/val/CHNCXR_0441_1.png train/val/MCUCXR_0254_1.png train/val/CHNCXR_0583_1.png train/val/CHNCXR_0543_1.png train/val/MCUCXR_0354_1.png train/val/CHNCXR_0616_1.png train/val/CHNCXR_0383_1.png train/val/CHNCXR_0381_1.png train/val/CHNCXR_0527_1.png train/val/CHNCXR_0470_1.png train/val/CHNCXR_0541_1.png train/val/MCUCXR_0331_1.png train/val/CHNCXR_0356_1.png train/val/CHNCXR_0513_1.png'"
            ],
            "application/vnd.google.colaboratory.intrinsic+json": {
              "type": "string"
            }
          },
          "metadata": {},
          "execution_count": 13
        }
      ]
    },
    {
      "cell_type": "code",
      "source": [
        "!mv -t train_main/tb $files"
      ],
      "metadata": {
        "id": "_cB0jYdDGvZJ"
      },
      "execution_count": null,
      "outputs": []
    },
    {
      "cell_type": "code",
      "source": [
        "ntb_1 = glob('train_main/ntb/*.png')\n",
        "tb_1 = glob('train_main/tb/*.png')"
      ],
      "metadata": {
        "id": "Fsd97c4GL0qm"
      },
      "execution_count": null,
      "outputs": []
    },
    {
      "cell_type": "code",
      "source": [
        "from sklearn.model_selection import train_test_split\n",
        "ntb_train, ntb_test = train_test_split(ntb_1, test_size=0.10)\n",
        "tb_train, tb_test = train_test_split(tb_1, test_size=0.10)"
      ],
      "metadata": {
        "id": "hIfpUA5nL0nu"
      },
      "execution_count": null,
      "outputs": []
    },
    {
      "cell_type": "code",
      "source": [
        "!mkdir test\n",
        "!mkdir test/ntb"
      ],
      "metadata": {
        "id": "-XEBTdSKL0jM"
      },
      "execution_count": null,
      "outputs": []
    },
    {
      "cell_type": "code",
      "source": [
        "files = ' '.join(ntb_test)"
      ],
      "metadata": {
        "id": "Vn1IMvMhL0g0"
      },
      "execution_count": null,
      "outputs": []
    },
    {
      "cell_type": "code",
      "source": [
        "files"
      ],
      "metadata": {
        "colab": {
          "base_uri": "https://localhost:8080/",
          "height": 70
        },
        "id": "k549OorFMdtO",
        "outputId": "5a4fbf1e-1f33-4bcc-d6f1-c1d297ce35ff"
      },
      "execution_count": null,
      "outputs": [
        {
          "output_type": "execute_result",
          "data": {
            "text/plain": [
              "'train_main/ntb/CHNCXR_0099_0.png train_main/ntb/MCUCXR_0023_0.png train_main/ntb/CHNCXR_0057_0.png train_main/ntb/CHNCXR_0038_0.png train_main/ntb/MCUCXR_0074_0.png train_main/ntb/CHNCXR_0025_0.png train_main/ntb/CHNCXR_0033_0.png train_main/ntb/CHNCXR_0221_0.png train_main/ntb/MCUCXR_0043_0.png train_main/ntb/CHNCXR_0059_0.png'"
            ],
            "application/vnd.google.colaboratory.intrinsic+json": {
              "type": "string"
            }
          },
          "metadata": {},
          "execution_count": 20
        }
      ]
    },
    {
      "cell_type": "code",
      "source": [
        "!mv -t test/ntb $files"
      ],
      "metadata": {
        "id": "RYRVlJIVL0cx"
      },
      "execution_count": null,
      "outputs": []
    },
    {
      "cell_type": "code",
      "source": [
        "!mkdir test/tb"
      ],
      "metadata": {
        "id": "Xn6wI27RL0aW"
      },
      "execution_count": null,
      "outputs": []
    },
    {
      "cell_type": "code",
      "source": [
        "files = ' '.join(tb_test)"
      ],
      "metadata": {
        "id": "7wL8nPTkL0X2"
      },
      "execution_count": null,
      "outputs": []
    },
    {
      "cell_type": "code",
      "source": [
        "!mv -t test/tb $files"
      ],
      "metadata": {
        "id": "pXQXZnXOL0VX"
      },
      "execution_count": null,
      "outputs": []
    },
    {
      "cell_type": "code",
      "source": [
        "TRAIN_DIR = 'train_main'\n",
        "TEST_DIR = 'test'"
      ],
      "metadata": {
        "id": "YRaAXctIL0SQ"
      },
      "execution_count": null,
      "outputs": []
    },
    {
      "cell_type": "code",
      "source": [
        "from keras.models import Model\n",
        "from keras.layers import Dense, GlobalAveragePooling2D, Dropout\n",
        "from keras.applications.inception_v3 import InceptionV3, preprocess_input\n"
      ],
      "metadata": {
        "id": "iyuzecuRL0Of"
      },
      "execution_count": null,
      "outputs": []
    },
    {
      "cell_type": "markdown",
      "source": [
        "#**INCEPTION V3**"
      ],
      "metadata": {
        "id": "wAhoUwyaZYd8"
      }
    },
    {
      "cell_type": "code",
      "source": [
        "CLASSES = 2\n",
        "    \n",
        "# setup model\n",
        "base_model = InceptionV3(weights='imagenet', include_top=False)\n",
        "\n",
        "x = base_model.output\n",
        "x = GlobalAveragePooling2D(name='avg_pool')(x)\n",
        "x = Dropout(0.4)(x)\n",
        "predictions = Dense(CLASSES, activation='softmax')(x)\n",
        "model = Model(inputs=base_model.input, outputs=predictions)\n",
        "   \n",
        "# transfer learning\n",
        "for layer in base_model.layers:\n",
        "    layer.trainable = False\n",
        "      \n",
        "model.compile(optimizer='rmsprop',\n",
        "              loss='binary_crossentropy',\n",
        "              metrics=['accuracy'])"
      ],
      "metadata": {
        "colab": {
          "base_uri": "https://localhost:8080/"
        },
        "id": "GcZS-eNFL0Ls",
        "outputId": "012ac3b3-ffb4-4f5c-e11a-cecbf025c6d6"
      },
      "execution_count": null,
      "outputs": [
        {
          "output_type": "stream",
          "name": "stdout",
          "text": [
            "Downloading data from https://storage.googleapis.com/tensorflow/keras-applications/inception_v3/inception_v3_weights_tf_dim_ordering_tf_kernels_notop.h5\n",
            "87916544/87910968 [==============================] - 1s 0us/step\n",
            "87924736/87910968 [==============================] - 1s 0us/step\n"
          ]
        }
      ]
    },
    {
      "cell_type": "code",
      "source": [
        "from keras.preprocessing.image import ImageDataGenerator\n",
        "\n",
        "WIDTH = 299\n",
        "HEIGHT = 299\n",
        "BATCH_SIZE = 32\n",
        "\n",
        "# data prep\n",
        "train_datagen = ImageDataGenerator(\n",
        "    preprocessing_function=preprocess_input,\n",
        "    rotation_range=40,\n",
        "    width_shift_range=0.2,\n",
        "    height_shift_range=0.2,\n",
        "    shear_range=0.2,\n",
        "    zoom_range=0.2,\n",
        "    horizontal_flip=True,\n",
        "    fill_mode='nearest')\n",
        "\n",
        "validation_datagen = ImageDataGenerator(\n",
        "    preprocessing_function=preprocess_input,\n",
        "    rotation_range=40,\n",
        "    width_shift_range=0.2,\n",
        "    height_shift_range=0.2,\n",
        "    shear_range=0.2,\n",
        "    zoom_range=0.2,\n",
        "    horizontal_flip=True,\n",
        "    fill_mode='nearest')\n",
        "train_generator = train_datagen.flow_from_directory(\n",
        "    TRAIN_DIR,\n",
        "    target_size=(HEIGHT, WIDTH),\n",
        "\t\tbatch_size=BATCH_SIZE,\n",
        "\t\tclass_mode='categorical')\n",
        "    \n",
        "validation_generator = validation_datagen.flow_from_directory(\n",
        "    TEST_DIR,\n",
        "    target_size=(HEIGHT, WIDTH),\n",
        "    batch_size=BATCH_SIZE,\n",
        "    class_mode='categorical')"
      ],
      "metadata": {
        "colab": {
          "base_uri": "https://localhost:8080/"
        },
        "id": "xrbWs25lL0Ju",
        "outputId": "61aa5a74-e858-41af-aa23-38a600b4f0f5"
      },
      "execution_count": null,
      "outputs": [
        {
          "output_type": "stream",
          "name": "stdout",
          "text": [
            "Found 172 images belonging to 2 classes.\n",
            "Found 20 images belonging to 2 classes.\n"
          ]
        }
      ]
    },
    {
      "cell_type": "code",
      "source": [
        "EPOCHS = 15\n",
        "BATCH_SIZE = 32\n",
        "\n",
        "\n",
        "MODEL_FILE = 'filename.model'\n",
        "\n",
        "history = model.fit_generator(\n",
        "    train_generator,\n",
        "    epochs=EPOCHS,\n",
        "    \n",
        "    validation_data=validation_generator)\n",
        "  \n",
        "model.save(MODEL_FILE)"
      ],
      "metadata": {
        "colab": {
          "base_uri": "https://localhost:8080/"
        },
        "id": "p-g9zcw5L0HH",
        "outputId": "ec25e421-c5d7-4b57-8f61-51ea83119421"
      },
      "execution_count": null,
      "outputs": [
        {
          "output_type": "stream",
          "name": "stderr",
          "text": [
            "/usr/local/lib/python3.7/dist-packages/ipykernel_launcher.py:11: UserWarning: `Model.fit_generator` is deprecated and will be removed in a future version. Please use `Model.fit`, which supports generators.\n",
            "  # This is added back by InteractiveShellApp.init_path()\n"
          ]
        },
        {
          "output_type": "stream",
          "name": "stdout",
          "text": [
            "Epoch 1/15\n",
            "6/6 [==============================] - 63s 10s/step - loss: 0.6102 - accuracy: 0.7093 - val_loss: 0.6309 - val_accuracy: 0.7000\n",
            "Epoch 2/15\n",
            "6/6 [==============================] - 61s 10s/step - loss: 0.5294 - accuracy: 0.7442 - val_loss: 0.5848 - val_accuracy: 0.6500\n",
            "Epoch 3/15\n",
            "6/6 [==============================] - 65s 12s/step - loss: 0.5354 - accuracy: 0.7384 - val_loss: 0.5949 - val_accuracy: 0.7500\n",
            "Epoch 4/15\n",
            "6/6 [==============================] - 61s 10s/step - loss: 0.5515 - accuracy: 0.7326 - val_loss: 0.5658 - val_accuracy: 0.8000\n",
            "Epoch 5/15\n",
            "6/6 [==============================] - 62s 10s/step - loss: 0.5558 - accuracy: 0.7500 - val_loss: 0.6530 - val_accuracy: 0.6000\n",
            "Epoch 6/15\n",
            "6/6 [==============================] - 60s 11s/step - loss: 0.5102 - accuracy: 0.7558 - val_loss: 0.5525 - val_accuracy: 0.7000\n",
            "Epoch 7/15\n",
            "6/6 [==============================] - 61s 10s/step - loss: 0.5957 - accuracy: 0.7035 - val_loss: 0.6018 - val_accuracy: 0.6000\n",
            "Epoch 8/15\n",
            "6/6 [==============================] - 60s 10s/step - loss: 0.5618 - accuracy: 0.7442 - val_loss: 0.6457 - val_accuracy: 0.7000\n",
            "Epoch 9/15\n",
            "6/6 [==============================] - 61s 10s/step - loss: 0.5421 - accuracy: 0.7384 - val_loss: 0.5457 - val_accuracy: 0.7500\n",
            "Epoch 10/15\n",
            "6/6 [==============================] - 60s 10s/step - loss: 0.4770 - accuracy: 0.8256 - val_loss: 0.6414 - val_accuracy: 0.7500\n",
            "Epoch 11/15\n",
            "6/6 [==============================] - 61s 11s/step - loss: 0.5182 - accuracy: 0.7849 - val_loss: 0.5542 - val_accuracy: 0.7500\n",
            "Epoch 12/15\n",
            "6/6 [==============================] - 60s 10s/step - loss: 0.5307 - accuracy: 0.7733 - val_loss: 0.5242 - val_accuracy: 0.7500\n",
            "Epoch 13/15\n",
            "6/6 [==============================] - 60s 10s/step - loss: 0.5049 - accuracy: 0.7849 - val_loss: 0.5259 - val_accuracy: 0.6500\n",
            "Epoch 14/15\n",
            "6/6 [==============================] - 61s 10s/step - loss: 0.5456 - accuracy: 0.7500 - val_loss: 0.5427 - val_accuracy: 0.6500\n",
            "Epoch 15/15\n",
            "6/6 [==============================] - 61s 10s/step - loss: 0.5350 - accuracy: 0.7384 - val_loss: 0.6219 - val_accuracy: 0.5500\n",
            "INFO:tensorflow:Assets written to: filename.model/assets\n"
          ]
        }
      ]
    },
    {
      "cell_type": "code",
      "source": [
        "# testing the model\n",
        "model.evaluate_generator(validation_generator, steps=1,  max_queue_size=10, workers=1, use_multiprocessing=False, verbose=0)"
      ],
      "metadata": {
        "colab": {
          "base_uri": "https://localhost:8080/"
        },
        "id": "Y8J2WHDuL0Eh",
        "outputId": "a2b4798b-b20e-41bd-acde-e1124160a0fa"
      },
      "execution_count": null,
      "outputs": [
        {
          "output_type": "stream",
          "name": "stderr",
          "text": [
            "/usr/local/lib/python3.7/dist-packages/ipykernel_launcher.py:2: UserWarning: `Model.evaluate_generator` is deprecated and will be removed in a future version. Please use `Model.evaluate`, which supports generators.\n",
            "  \n"
          ]
        },
        {
          "output_type": "execute_result",
          "data": {
            "text/plain": [
              "[0.5679810643196106, 0.6499999761581421]"
            ]
          },
          "metadata": {},
          "execution_count": 41
        }
      ]
    },
    {
      "cell_type": "code",
      "source": [
        "plt.figure()\n",
        "plt.plot(history.history['loss'])\n",
        "plt.plot(history.history['val_loss'])\n",
        "plt.title('model loss')\n",
        "plt.ylabel('loss')\n",
        "plt.xlabel('epoch')\n",
        "plt.legend(['train', 'test'], loc='upper right')\n",
        "plt.show()"
      ],
      "metadata": {
        "colab": {
          "base_uri": "https://localhost:8080/",
          "height": 295
        },
        "id": "6RK1c4bpL0B_",
        "outputId": "c47458de-9424-42e9-f56f-ae1d1d43037a"
      },
      "execution_count": null,
      "outputs": [
        {
          "output_type": "display_data",
          "data": {
            "text/plain": [
              "<Figure size 432x288 with 1 Axes>"
            ],
            "image/png": "[encoded data removed]"
          },
          "metadata": {
            "needs_background": "light"
          }
        }
      ]
    },
    {
      "cell_type": "code",
      "source": [
        "plt.figure()\n",
        "plt.plot(history.history['accuracy'])\n",
        "plt.plot(history.history['val_accuracy'])\n",
        "plt.title('model accuracy')\n",
        "plt.ylabel('accuracy')\n",
        "plt.xlabel('epoch')\n",
        "plt.legend(['train', 'test'], loc='upper right')\n",
        "plt.show()"
      ],
      "metadata": {
        "colab": {
          "base_uri": "https://localhost:8080/",
          "height": 295
        },
        "id": "XVTmSs2YIknx",
        "outputId": "d8182c33-d24d-49bb-f310-81f5398eff55"
      },
      "execution_count": null,
      "outputs": [
        {
          "output_type": "display_data",
          "data": {
            "text/plain": [
              "<Figure size 432x288 with 1 Axes>"
            ],
            "image/png": "[encoded data removed]"
          },
          "metadata": {
            "needs_background": "light"
          }
        }
      ]
    },
    {
      "cell_type": "markdown",
      "source": [
        "#**RESNET 50**"
      ],
      "metadata": {
        "id": "VuBXUfIaHH-o"
      }
    },
    {
      "cell_type": "code",
      "source": [
        "from keras.applications.resnet import ResNet50, preprocess_input\n",
        "HEIGHT = 300\n",
        "WIDTH = 300\n",
        "CLASSES = 2\n",
        "base_model = ResNet50(weights='imagenet', \n",
        "                      include_top=False, \n",
        "                      input_shape=(HEIGHT, WIDTH, 3))"
      ],
      "metadata": {
        "id": "sBWJ2jJXLz_W"
      },
      "execution_count": null,
      "outputs": []
    },
    {
      "cell_type": "code",
      "source": [
        "x = base_model.output\n",
        "x = GlobalAveragePooling2D(name='avg_pool')(x)\n",
        "x = Dropout(0.4)(x)\n",
        "predictions = Dense(CLASSES, activation='softmax')(x)\n",
        "model = Model(inputs=base_model.input, outputs=predictions)\n",
        "   \n",
        "# transfer learning\n",
        "for layer in base_model.layers:\n",
        "    layer.trainable = False\n",
        "      \n",
        "model.compile(optimizer='rmsprop',\n",
        "              loss='binary_crossentropy',\n",
        "              metrics=['accuracy'])"
      ],
      "metadata": {
        "id": "7QejGJT3Lz88"
      },
      "execution_count": null,
      "outputs": []
    },
    {
      "cell_type": "code",
      "source": [
        "from keras.preprocessing.image import ImageDataGenerator\n",
        "\n",
        "BATCH_SIZE = 32\n",
        "\n",
        "# data prep\n",
        "train_datagen = ImageDataGenerator(\n",
        "    preprocessing_function=preprocess_input,\n",
        "    rotation_range=40,\n",
        "    width_shift_range=0.2,\n",
        "    height_shift_range=0.2,\n",
        "    shear_range=0.2,\n",
        "    zoom_range=0.2,\n",
        "    horizontal_flip=True,\n",
        "    fill_mode='nearest')\n",
        "\n",
        "validation_datagen = ImageDataGenerator(\n",
        "    preprocessing_function=preprocess_input,\n",
        "    rotation_range=40,\n",
        "    width_shift_range=0.2,\n",
        "    height_shift_range=0.2,\n",
        "    shear_range=0.2,\n",
        "    zoom_range=0.2,\n",
        "    horizontal_flip=True,\n",
        "    fill_mode='nearest')\n",
        "\n",
        "train_generator = train_datagen.flow_from_directory(\n",
        "    TRAIN_DIR,\n",
        "    target_size=(HEIGHT, WIDTH),\n",
        "\t\tbatch_size=BATCH_SIZE,\n",
        "\t\tclass_mode='categorical')\n",
        "validation_generator = validation_datagen.flow_from_directory(\n",
        "    TEST_DIR,\n",
        "    target_size=(HEIGHT, WIDTH),\n",
        "    batch_size=BATCH_SIZE,\n",
        "    class_mode='categorical')\n"
      ],
      "metadata": {
        "id": "9PBy_Kx8Lz6E",
        "colab": {
          "base_uri": "https://localhost:8080/"
        },
        "outputId": "84d163e0-0118-43c5-82dc-7930e0c22677"
      },
      "execution_count": null,
      "outputs": [
        {
          "output_type": "stream",
          "name": "stdout",
          "text": [
            "Found 172 images belonging to 2 classes.\n",
            "Found 20 images belonging to 2 classes.\n"
          ]
        }
      ]
    },
    {
      "cell_type": "code",
      "source": [
        "EPOCHS = 5\n",
        "BATCH_SIZE = 32\n",
        "\n",
        "VALIDATION_STEPS = 10\n",
        "\n",
        "MODEL_FILE = 'resnet.model'\n",
        "\n",
        "history = model.fit_generator(\n",
        "    train_generator,\n",
        "    epochs=EPOCHS,\n",
        "    \n",
        "    validation_data=validation_generator,)\n",
        "  \n",
        "model.save(MODEL_FILE)"
      ],
      "metadata": {
        "id": "C4uJShBVLz3S",
        "colab": {
          "base_uri": "https://localhost:8080/"
        },
        "outputId": "4f9276e0-a9a0-43a6-a608-487961e7be37"
      },
      "execution_count": null,
      "outputs": [
        {
          "output_type": "stream",
          "name": "stderr",
          "text": [
            "/usr/local/lib/python3.7/dist-packages/ipykernel_launcher.py:12: UserWarning: `Model.fit_generator` is deprecated and will be removed in a future version. Please use `Model.fit`, which supports generators.\n",
            "  if sys.path[0] == '':\n"
          ]
        },
        {
          "output_type": "stream",
          "name": "stdout",
          "text": [
            "Epoch 1/5\n",
            "6/6 [==============================] - 61s 10s/step - loss: 0.6122 - accuracy: 0.7035 - val_loss: 0.6463 - val_accuracy: 0.7000\n",
            "Epoch 2/5\n",
            "6/6 [==============================] - 60s 10s/step - loss: 0.6051 - accuracy: 0.7209 - val_loss: 0.6285 - val_accuracy: 0.6500\n",
            "Epoch 3/5\n",
            "6/6 [==============================] - 66s 11s/step - loss: 0.6119 - accuracy: 0.7093 - val_loss: 0.5444 - val_accuracy: 0.6500\n",
            "Epoch 4/5\n",
            "6/6 [==============================] - 60s 10s/step - loss: 0.5986 - accuracy: 0.6919 - val_loss: 0.7127 - val_accuracy: 0.6500\n",
            "Epoch 5/5\n",
            "6/6 [==============================] - 70s 12s/step - loss: 0.6403 - accuracy: 0.6802 - val_loss: 0.6778 - val_accuracy: 0.6500\n",
            "INFO:tensorflow:Assets written to: resnet.model/assets\n"
          ]
        }
      ]
    },
    {
      "cell_type": "code",
      "source": [
        "model.evaluate_generator(validation_generator, steps=1,  max_queue_size=10, workers=1, use_multiprocessing=False, verbose=0)"
      ],
      "metadata": {
        "id": "trFD0sQqLz0z",
        "colab": {
          "base_uri": "https://localhost:8080/"
        },
        "outputId": "4ace3f14-79cc-4e9f-a2ea-6115dde00bb9"
      },
      "execution_count": null,
      "outputs": [
        {
          "output_type": "stream",
          "name": "stderr",
          "text": [
            "/usr/local/lib/python3.7/dist-packages/ipykernel_launcher.py:1: UserWarning: `Model.evaluate_generator` is deprecated and will be removed in a future version. Please use `Model.evaluate`, which supports generators.\n",
            "  \"\"\"Entry point for launching an IPython kernel.\n"
          ]
        },
        {
          "output_type": "execute_result",
          "data": {
            "text/plain": [
              "[0.5270025730133057, 0.75]"
            ]
          },
          "metadata": {},
          "execution_count": 38
        }
      ]
    },
    {
      "cell_type": "code",
      "source": [
        "# summarize history for loss\n",
        "plt.figure()\n",
        "plt.plot(history.history['loss'])\n",
        "plt.plot(history.history['val_loss'])\n",
        "plt.title('model loss')\n",
        "plt.ylabel('loss')\n",
        "plt.xlabel('epoch')\n",
        "plt.legend(['train', 'test'], loc='upper right')\n",
        "plt.show()"
      ],
      "metadata": {
        "id": "UE15eCXMLzx0",
        "colab": {
          "base_uri": "https://localhost:8080/",
          "height": 295
        },
        "outputId": "527e086f-9e91-4422-81e8-f74cd2579930"
      },
      "execution_count": null,
      "outputs": [
        {
          "output_type": "display_data",
          "data": {
            "text/plain": [
              "<Figure size 432x288 with 1 Axes>"
            ],
            "image/png": "[encoded data removed]"
          },
          "metadata": {
            "needs_background": "light"
          }
        }
      ]
    },
    {
      "cell_type": "code",
      "source": [
        "# summarize history for accuracy\n",
        "plt.figure()\n",
        "plt.plot(history.history['accuracy'])\n",
        "plt.plot(history.history['val_accuracy'])\n",
        "plt.title('model accuracy')\n",
        "plt.ylabel('accuracy')\n",
        "plt.xlabel('epoch')\n",
        "plt.legend(['train', 'test'], loc='upper right')\n",
        "plt.show()"
      ],
      "metadata": {
        "colab": {
          "base_uri": "https://localhost:8080/",
          "height": 295
        },
        "id": "cUhwT7wXQ02-",
        "outputId": "b5e1b17b-2a17-4313-da95-f00ae9ebfca6"
      },
      "execution_count": null,
      "outputs": [
        {
          "output_type": "display_data",
          "data": {
            "text/plain": [
              "<Figure size 432x288 with 1 Axes>"
            ],
            "image/png": "[encoded data removed]"
          },
          "metadata": {
            "needs_background": "light"
          }
        }
      ]
    },
    {
      "cell_type": "markdown",
      "source": [
        "#**VGG19**"
      ],
      "metadata": {
        "id": "UFA9vTMBHplb"
      }
    },
    {
      "cell_type": "code",
      "source": [
        "from keras.applications.vgg19 import VGG19\n",
        "HEIGHT = 224\n",
        "WIDTH = 224\n",
        "CLASSES = 2\n",
        "BATCH_SIZE = 32\n",
        " \n",
        "base_model = VGG19(weights='imagenet',\n",
        "                  include_top=False,\n",
        "                  input_shape=(HEIGHT, WIDTH, 3))"
      ],
      "metadata": {
        "id": "p0ZtNhlhLzvT",
        "colab": {
          "base_uri": "https://localhost:8080/"
        },
        "outputId": "74c8ac8b-74fb-4fc9-c9fa-5e58e0566bea"
      },
      "execution_count": null,
      "outputs": [
        {
          "output_type": "stream",
          "name": "stdout",
          "text": [
            "Downloading data from https://storage.googleapis.com/tensorflow/keras-applications/vgg19/vgg19_weights_tf_dim_ordering_tf_kernels_notop.h5\n",
            "80142336/80134624 [==============================] - 1s 0us/step\n",
            "80150528/80134624 [==============================] - 1s 0us/step\n"
          ]
        }
      ]
    },
    {
      "cell_type": "code",
      "source": [
        "from keras.models import Model\n",
        "from keras.layers import Dense, GlobalAveragePooling2D, Dropout\n",
        "from keras.applications.vgg19 import VGG19, preprocess_input\n",
        "\n",
        "x = base_model.output\n",
        "x = GlobalAveragePooling2D(name='avg_pool')(x)\n",
        "x = Dropout(0.4)(x)\n",
        "predictions = Dense(CLASSES, activation='softmax')(x)\n",
        "model = Model(inputs=base_model.input, outputs=predictions)\n",
        "   \n",
        "# transfer learning\n",
        "for layer in base_model.layers:\n",
        "    layer.trainable = False\n",
        "      \n",
        "model.compile(optimizer='rmsprop',\n",
        "              loss='binary_crossentropy',\n",
        "              metrics=['accuracy'])"
      ],
      "metadata": {
        "id": "_Ai64J7aLzsm"
      },
      "execution_count": null,
      "outputs": []
    },
    {
      "cell_type": "code",
      "source": [
        "from keras.preprocessing.image import ImageDataGenerator\n",
        "\n",
        "\n",
        "# data prep\n",
        "train_datagen = ImageDataGenerator(\n",
        "    preprocessing_function=preprocess_input,\n",
        "    rotation_range=40,\n",
        "    width_shift_range=0.2,\n",
        "    height_shift_range=0.2,\n",
        "    shear_range=0.2,\n",
        "    zoom_range=0.2,\n",
        "    horizontal_flip=True,\n",
        "    fill_mode='nearest')\n",
        "\n",
        "validation_datagen = ImageDataGenerator(\n",
        "    preprocessing_function=preprocess_input,\n",
        "    rotation_range=40,\n",
        "    width_shift_range=0.2,\n",
        "    height_shift_range=0.2,\n",
        "    shear_range=0.2,\n",
        "    zoom_range=0.2,\n",
        "    horizontal_flip=True,\n",
        "    fill_mode='nearest')\n",
        "\n",
        "train_generator = train_datagen.flow_from_directory(\n",
        "    TRAIN_DIR,\n",
        "    target_size=(HEIGHT, WIDTH),\n",
        "\t\tbatch_size=BATCH_SIZE,\n",
        "\t\tclass_mode='categorical')\n",
        "    \n",
        "validation_generator = validation_datagen.flow_from_directory(\n",
        "    TEST_DIR,\n",
        "    target_size=(HEIGHT, WIDTH),\n",
        "    batch_size=BATCH_SIZE,\n",
        "    class_mode='categorical')"
      ],
      "metadata": {
        "id": "zJ3Ww64SLzp5",
        "colab": {
          "base_uri": "https://localhost:8080/"
        },
        "outputId": "d3924c47-1ab9-42d5-9c4e-572834314fce"
      },
      "execution_count": null,
      "outputs": [
        {
          "output_type": "stream",
          "name": "stdout",
          "text": [
            "Found 172 images belonging to 2 classes.\n",
            "Found 20 images belonging to 2 classes.\n"
          ]
        }
      ]
    },
    {
      "cell_type": "code",
      "source": [
        "EPOCHS = 10\n",
        "BATCH_SIZE = 32\n",
        "\n",
        "\n",
        "MODEL_FILE = 'vgg19.model'\n",
        "\n",
        "history = model.fit_generator(\n",
        "    train_generator,\n",
        "    epochs=EPOCHS,\n",
        "    validation_data=validation_generator)\n",
        "  \n",
        "model.save(MODEL_FILE)"
      ],
      "metadata": {
        "id": "SHS2i1HJLzng",
        "colab": {
          "base_uri": "https://localhost:8080/"
        },
        "outputId": "1e026e76-3e0a-4038-8fe1-37e57025a699"
      },
      "execution_count": null,
      "outputs": [
        {
          "output_type": "stream",
          "name": "stderr",
          "text": [
            "/usr/local/lib/python3.7/dist-packages/ipykernel_launcher.py:10: UserWarning: `Model.fit_generator` is deprecated and will be removed in a future version. Please use `Model.fit`, which supports generators.\n",
            "  # Remove the CWD from sys.path while we load stuff.\n"
          ]
        },
        {
          "output_type": "stream",
          "name": "stdout",
          "text": [
            "Epoch 1/10\n",
            "6/6 [==============================] - 125s 21s/step - loss: 1.6496 - accuracy: 0.5698 - val_loss: 0.8166 - val_accuracy: 0.7000\n",
            "Epoch 2/10\n",
            "6/6 [==============================] - 125s 21s/step - loss: 1.5162 - accuracy: 0.5988 - val_loss: 0.8252 - val_accuracy: 0.6500\n",
            "Epoch 3/10\n",
            "6/6 [==============================] - 124s 21s/step - loss: 1.3475 - accuracy: 0.6744 - val_loss: 0.9257 - val_accuracy: 0.6000\n",
            "Epoch 4/10\n",
            "6/6 [==============================] - 124s 21s/step - loss: 1.5375 - accuracy: 0.5581 - val_loss: 0.7589 - val_accuracy: 0.7500\n",
            "Epoch 5/10\n",
            "6/6 [==============================] - 124s 21s/step - loss: 1.3036 - accuracy: 0.6047 - val_loss: 0.6796 - val_accuracy: 0.7500\n",
            "Epoch 6/10\n",
            "6/6 [==============================] - 124s 21s/step - loss: 1.2093 - accuracy: 0.7035 - val_loss: 0.8301 - val_accuracy: 0.7000\n",
            "Epoch 7/10\n",
            "6/6 [==============================] - 124s 21s/step - loss: 1.4168 - accuracy: 0.6337 - val_loss: 0.6894 - val_accuracy: 0.7000\n",
            "Epoch 8/10\n",
            "6/6 [==============================] - 124s 21s/step - loss: 1.1893 - accuracy: 0.7093 - val_loss: 0.5571 - val_accuracy: 0.8500\n",
            "Epoch 9/10\n",
            "6/6 [==============================] - 124s 21s/step - loss: 1.0910 - accuracy: 0.6860 - val_loss: 0.8256 - val_accuracy: 0.7000\n",
            "Epoch 10/10\n",
            "6/6 [==============================] - 131s 22s/step - loss: 1.2483 - accuracy: 0.6453 - val_loss: 0.7904 - val_accuracy: 0.7500\n",
            "INFO:tensorflow:Assets written to: vgg19.model/assets\n"
          ]
        }
      ]
    },
    {
      "cell_type": "markdown",
      "source": [
        "Increasing the number of epochs would've improved the performance of the model"
      ],
      "metadata": {
        "id": "pmNO34IWZDBy"
      }
    },
    {
      "cell_type": "code",
      "source": [
        "# testing the model\n",
        "model.evaluate_generator(validation_generator, steps=1,  max_queue_size=10, workers=1, use_multiprocessing=False, verbose=0)"
      ],
      "metadata": {
        "id": "0ny8SsrWLzk2",
        "colab": {
          "base_uri": "https://localhost:8080/"
        },
        "outputId": "bfccc3fd-eaee-4849-97bb-cdb474b6d591"
      },
      "execution_count": null,
      "outputs": [
        {
          "output_type": "stream",
          "name": "stderr",
          "text": [
            "/usr/local/lib/python3.7/dist-packages/ipykernel_launcher.py:2: UserWarning: `Model.evaluate_generator` is deprecated and will be removed in a future version. Please use `Model.evaluate`, which supports generators.\n",
            "  \n"
          ]
        },
        {
          "output_type": "execute_result",
          "data": {
            "text/plain": [
              "[0.7377889752388, 0.699999988079071]"
            ]
          },
          "metadata": {},
          "execution_count": 54
        }
      ]
    },
    {
      "cell_type": "code",
      "source": [
        "# summarize history for loss\n",
        "plt.figure()\n",
        "plt.plot(history.history['loss'])\n",
        "plt.plot(history.history['val_loss'])\n",
        "plt.title('model loss')\n",
        "plt.ylabel('loss')\n",
        "plt.xlabel('epoch')\n",
        "plt.legend(['train', 'test'], loc='upper right')\n",
        "plt.show()"
      ],
      "metadata": {
        "id": "g-NVErHmLziG",
        "colab": {
          "base_uri": "https://localhost:8080/",
          "height": 295
        },
        "outputId": "babdb906-f28b-4273-aced-3e457c4f1ddf"
      },
      "execution_count": null,
      "outputs": [
        {
          "output_type": "display_data",
          "data": {
            "text/plain": [
              "<Figure size 432x288 with 1 Axes>"
            ],
            "image/png": "[encoded data removed]"
          },
          "metadata": {
            "needs_background": "light"
          }
        }
      ]
    },
    {
      "cell_type": "code",
      "source": [
        "# summarize history for accuracy\n",
        "plt.figure()\n",
        "plt.plot(history.history['accuracy'])\n",
        "plt.plot(history.history['val_accuracy'])\n",
        "plt.title('model accuracy')\n",
        "plt.ylabel('accuracy')\n",
        "plt.xlabel('epoch')\n",
        "plt.legend(['train', 'test'], loc='upper right')\n",
        "plt.show()"
      ],
      "metadata": {
        "id": "_NtuV4RjLzfe",
        "colab": {
          "base_uri": "https://localhost:8080/",
          "height": 295
        },
        "outputId": "228591eb-4d09-4f1c-bae9-dcea47ca6d8f"
      },
      "execution_count": null,
      "outputs": [
        {
          "output_type": "display_data",
          "data": {
            "text/plain": [
              "<Figure size 432x288 with 1 Axes>"
            ],
            "image/png": "[encoded data removed]"
          },
          "metadata": {
            "needs_background": "light"
          }
        }
      ]
    },
    {
      "cell_type": "code",
      "source": [
        "!jupyter nbconvert --to html '/content/SHENZEN_DATA (3).ipynb'"
      ],
      "metadata": {
        "id": "y6sQtCP1LzdB",
        "colab": {
          "base_uri": "https://localhost:8080/"
        },
        "outputId": "cdc4733f-41b4-426d-9d64-077508fb3075"
      },
      "execution_count": null,
      "outputs": [
        {
          "output_type": "stream",
          "name": "stdout",
          "text": [
            "[NbConvertApp] Converting notebook /content/SHENZEN_DATA (3).ipynb to html\n",
            "[NbConvertApp] Writing 538385 bytes to /content/SHENZEN_DATA (3).html\n"
          ]
        }
      ]
    },
    {
      "cell_type": "code",
      "source": [],
      "metadata": {
        "id": "1gGcPi4-LzaW"
      },
      "execution_count": null,
      "outputs": []
    },
    {
      "cell_type": "code",
      "source": [],
      "metadata": {
        "id": "4m8pPPQRLzXZ"
      },
      "execution_count": null,
      "outputs": []
    },
    {
      "cell_type": "code",
      "source": [],
      "metadata": {
        "id": "iry3TulmLzUC"
      },
      "execution_count": null,
      "outputs": []
    },
    {
      "cell_type": "code",
      "source": [],
      "metadata": {
        "id": "u7MhrGoQLzQ1"
      },
      "execution_count": null,
      "outputs": []
    },
    {
      "cell_type": "code",
      "source": [],
      "metadata": {
        "id": "VedndhfsLzNh"
      },
      "execution_count": null,
      "outputs": []
    },
    {
      "cell_type": "code",
      "source": [],
      "metadata": {
        "id": "cODHu5F4LzAm"
      },
      "execution_count": null,
      "outputs": []
    }
  ]
}